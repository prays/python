{
 "cells": [
  {
   "cell_type": "code",
   "execution_count": 22,
   "metadata": {},
   "outputs": [
    {
     "data": {
      "text/plain": [
       "'B'"
      ]
     },
     "execution_count": 22,
     "metadata": {},
     "output_type": "execute_result"
    }
   ],
   "source": [
    "# Problem:Take a string and return the first recurring character in it.\n",
    "# input: ABCA\n",
    "# output: A\n",
    "# input: BCABA\n",
    "# output: B\n",
    "# pada program ini idenya adalah membandingkan elemen pada sub array yang beruuran 2 elemen, 3 elemen, 4 elemen, sampai ke ukuran aslinya sehingga program\n",
    "# program akan mencari kemunculan huruf terdekat dari huruf sebelumnya\n",
    "\n",
    "def first_occur(string):\n",
    "    len_str = len(string)\n",
    "    string = string.lower()\n",
    "    letter = 0\n",
    "    while letter<len_str:\n",
    "        for split_array in range(1,len_str):\n",
    "            for split_value in range(0,split_array):\n",
    "                if string[split_array]==string[split_value]:\n",
    "                    return string[split_array].upper()\n",
    "                else:\n",
    "                    continue\n",
    "        letter += 1\n",
    "    else:\n",
    "        return 'There is no occuring letter'\n",
    "\n",
    "string = 'bcaba'\n",
    "first_occur(string)"
   ]
  },
  {
   "cell_type": "code",
   "execution_count": null,
   "metadata": {
    "collapsed": true
   },
   "outputs": [],
   "source": []
  },
  {
   "cell_type": "code",
   "execution_count": null,
   "metadata": {
    "collapsed": true
   },
   "outputs": [],
   "source": []
  }
 ],
 "metadata": {
  "kernelspec": {
   "display_name": "Python 3",
   "language": "python",
   "name": "python3"
  },
  "language_info": {
   "codemirror_mode": {
    "name": "ipython",
    "version": 3
   },
   "file_extension": ".py",
   "mimetype": "text/x-python",
   "name": "python",
   "nbconvert_exporter": "python",
   "pygments_lexer": "ipython3",
   "version": "3.6.4"
  }
 },
 "nbformat": 4,
 "nbformat_minor": 2
}
